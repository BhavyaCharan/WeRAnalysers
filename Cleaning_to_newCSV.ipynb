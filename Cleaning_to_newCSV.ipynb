{
 "cells": [
  {
   "cell_type": "code",
   "execution_count": 7,
   "metadata": {
    "_cell_guid": "b1076dfc-b9ad-4769-8c92-a6c4dae69d19",
    "_uuid": "8f2839f25d086af736a60e9eeb907d3b93b6e0e5"
   },
   "outputs": [
    {
     "name": "stdout",
     "output_type": "stream",
     "text": [
      "/kaggle/input/air-pollution-dataset-india20162018/2017_india_withoutNA.csv\n",
      "/kaggle/input/air-pollution-dataset-india20162018/2018_india_withoutNA.csv\n",
      "/kaggle/input/air-pollution-dataset-india20162018/2017_india.csv\n",
      "/kaggle/input/air-pollution-dataset-india20162018/2016_india_withoutNA.csv\n",
      "/kaggle/input/air-pollution-dataset-india20162018/2016_india.csv\n",
      "/kaggle/input/air-pollution-dataset-india20162018/2018_india.csv\n"
     ]
    }
   ],
   "source": [
    "# This Python 3 environment comes with many helpful analytics libraries installed\n",
    "# It is defined by the kaggle/python docker image: https://github.com/kaggle/docker-python\n",
    "# For example, here's several helpful packages to load in \n",
    "\n",
    "import numpy as np # linear algebra\n",
    "import pandas as pd # data processing, CSV file I/O (e.g. pd.read_csv)\n",
    "\n",
    "# Input data files are available in the \"../input/\" directory.\n",
    "# For example, running this (by clicking run or pressing Shift+Enter) will list all files under the input directory\n",
    "\n",
    "import os\n",
    "for dirname, _, filenames in os.walk('/kaggle/input'):\n",
    "    for filename in filenames:\n",
    "        print(os.path.join(dirname, filename))\n",
    "\n",
    "# Any results you write to the current directory are saved as output.\n",
    "\n",
    "\n",
    "#----------------------------------------------------\n",
    "#The dataset conisists of approx 65L rows. Around 21L of these rows have NA values for the latitude and longitude columns\n",
    "#This can be seen from the Stocktaking of the data.\n",
    "#Instead of dropping 21L rows which would lead to huge data loss, we try to replace the missing NA values of latitude and\n",
    "#Longitude from other rows of the same City.\n",
    "#This as we can see below fills the values for 20L rows. The rest 1L we have no choice"
   ]
  },
  {
   "cell_type": "code",
   "execution_count": 21,
   "metadata": {
    "_cell_guid": "79c7e3d0-c299-4dcb-8224-4455121ee9b0",
    "_uuid": "d629ff2d2480ee46fbb7e2d37f6b5fab8052498a"
   },
   "outputs": [],
   "source": [
    "#Reading amd combining datasets \n",
    "df_2016_withNA=pd.read_csv(\"/kaggle/input/air-pollution-dataset-india20162018/2016_india.csv\")\n",
    "df_2017_withNA=pd.read_csv(\"/kaggle/input/air-pollution-dataset-india20162018/2017_india.csv\")\n",
    "df_2018_withNA=pd.read_csv(\"/kaggle/input/air-pollution-dataset-india20162018/2018_india.csv\")\n",
    "df_temp_withNA=df_2016_withNA.append(df_2017_withNA,ignore_index=True)\n",
    "df_withNA=df_temp_withNA.append(df_2018_withNA,ignore_index=True)"
   ]
  },
  {
   "cell_type": "code",
   "execution_count": 29,
   "metadata": {},
   "outputs": [],
   "source": [
    "#Storing the mean values of lat anf long per city in a dictionary\n",
    "dict_lat={}\n",
    "dict_long={}\n",
    "df_clean=df_withNA.groupby(df_withNA['city']).mean()\n",
    "for i in df_clean.index:\n",
    "    dict_lat[i]=df_clean.latitude[i]\n",
    "    dict_long[i]=df_clean.longitude[i]\n",
    "\n",
    "#i is the index which will be the city after performing the groupby operation"
   ]
  },
  {
   "cell_type": "code",
   "execution_count": 30,
   "metadata": {},
   "outputs": [
    {
     "name": "stderr",
     "output_type": "stream",
     "text": [
      "/opt/conda/lib/python3.6/site-packages/ipykernel_launcher.py:2: SettingWithCopyWarning: \n",
      "A value is trying to be set on a copy of a slice from a DataFrame\n",
      "\n",
      "See the caveats in the documentation: http://pandas.pydata.org/pandas-docs/stable/user_guide/indexing.html#returning-a-view-versus-a-copy\n",
      "  \n",
      "/opt/conda/lib/python3.6/site-packages/ipykernel_launcher.py:3: SettingWithCopyWarning: \n",
      "A value is trying to be set on a copy of a slice from a DataFrame\n",
      "\n",
      "See the caveats in the documentation: http://pandas.pydata.org/pandas-docs/stable/user_guide/indexing.html#returning-a-view-versus-a-copy\n",
      "  This is separate from the ipykernel package so we can avoid doing imports until\n"
     ]
    }
   ],
   "source": [
    "#Assigning the lat and long values back\n",
    "#Takes ~ 1hr\n",
    "for i in df_withNA.index:\n",
    "    df_withNA.latitude[i]=dict_lat[df_withNA.city[i]]\n",
    "    df_withNA.longitude[i]=dict_long[df_withNA.city[i]]\n"
   ]
  },
  {
   "cell_type": "code",
   "execution_count": 31,
   "metadata": {},
   "outputs": [
    {
     "name": "stdout",
     "output_type": "stream",
     "text": [
      "94938\n"
     ]
    }
   ],
   "source": [
    "#Check again for NA\n",
    "#i.e The rows corresponding to the cities which do not have a lat,long even once in the entire dataset\n",
    "print(df_withNA.longitude.isna().sum())"
   ]
  },
  {
   "cell_type": "code",
   "execution_count": 32,
   "metadata": {},
   "outputs": [],
   "source": [
    "\n",
    "#Cleaning negative values as negative concentration makes no logical sense\n",
    "drop_l_neg=df_withNA.index[df_withNA['value'] < 0].tolist()\n",
    "df_withNA=df_withNA.drop(df_withNA.index[drop_l_neg])\n",
    "df_withNA=df_withNA.reset_index(drop=True)\n",
    "\n"
   ]
  },
  {
   "cell_type": "code",
   "execution_count": 33,
   "metadata": {},
   "outputs": [
    {
     "data": {
      "text/plain": [
       "6343424"
      ]
     },
     "execution_count": 33,
     "metadata": {},
     "output_type": "execute_result"
    }
   ],
   "source": [
    "#Length after dropping\n",
    "len(df_withNA)"
   ]
  },
  {
   "cell_type": "code",
   "execution_count": 34,
   "metadata": {},
   "outputs": [],
   "source": [
    "#Writing to csv file\n",
    "df_withNA.to_csv('india_noNA.csv',index=False)\n"
   ]
  },
  {
   "cell_type": "code",
   "execution_count": 37,
   "metadata": {},
   "outputs": [
    {
     "name": "stdout",
     "output_type": "stream",
     "text": [
      "\n"
     ]
    }
   ],
   "source": [
    "df=pd.read_csv(\"/kaggle/input/air-pollution-dataset-india20162018/india_noNA.csv\")"
   ]
  },
  {
   "cell_type": "code",
   "execution_count": null,
   "metadata": {},
   "outputs": [],
   "source": [
    "print(df_withNA.longitude.isna().sum())"
   ]
  }
 ],
 "metadata": {
  "kernelspec": {
   "display_name": "Python 3",
   "language": "python",
   "name": "python3"
  },
  "language_info": {
   "codemirror_mode": {
    "name": "ipython",
    "version": 3
   },
   "file_extension": ".py",
   "mimetype": "text/x-python",
   "name": "python",
   "nbconvert_exporter": "python",
   "pygments_lexer": "ipython3",
   "version": "3.7.3"
  }
 },
 "nbformat": 4,
 "nbformat_minor": 1
}
