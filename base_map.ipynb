{
 "cells": [
  {
   "cell_type": "code",
   "execution_count": null,
   "metadata": {},
   "outputs": [],
   "source": [
    "# This Python 3 environment comes with many helpful analytics libraries installed\n",
    "# It is defined by the kaggle/python docker image: https://github.com/kaggle/docker-python\n",
    "# For example, here's several helpful packages to load in \n",
    "\n",
    "import numpy as np # linear algebra\n",
    "import pandas as pd # data processing, CSV file I/O (e.g. pd.read_csv)\n",
    "import plotly.graph_objects as go\n",
    "from ipywidgets import widgets\n",
    "import seaborn as sns\n",
    "import folium\n",
    "from folium.plugins import TimestampedGeoJson\n",
    "# Input data files are available in the \"../input/\" directory.\n",
    "# For example, running this (by clicking run or pressing Shift+Enter) will list all files under the input directory\n",
    "\n",
    "import os\n",
    "for dirname, _, filenames in os.walk('/kaggle/input'):\n",
    "    for filename in filenames:\n",
    "        print(os.path.join(dirname, filename))\n",
    "\n",
    "# Any results you write to the current directory are saved as output.\n"
   ]
  },
  {
   "cell_type": "code",
   "execution_count": null,
   "metadata": {},
   "outputs": [],
   "source": [
    "#Reading Needed files\n",
    "df_2016=pd.read_csv(\"/kaggle/input/air-pollution-dataset-india20162018/2016_india_withoutNA.csv\")\n",
    "df_2017=pd.read_csv(\"/kaggle/input/air-pollution-dataset-india20162018/2017_india_withoutNA.csv\")\n",
    "df_2018=pd.read_csv(\"/kaggle/input/air-pollution-dataset-india20162018/2018_india_withoutNA.csv\")\n",
    "df_temp=df_2016.append(df_2017,ignore_index=True)\n",
    "df=df_temp.append(df_2018,ignore_index=True)"
   ]
  },
  {
   "cell_type": "code",
   "execution_count": null,
   "metadata": {},
   "outputs": [],
   "source": [
    "#---For MAP\n",
    "#Creating a new dataframe \n",
    "data_monthly_dropdown=df\n",
    "data_monthly_dropdown=data_monthly_dropdown.drop(['local','country','attribution','location','unit'],axis=1)\n",
    "data_monthly_dropdown['utc'] = data_monthly_dropdown['utc'].map(lambda x: str(x)[:-17])\n",
    "#Converting to datetime\n",
    "data_monthly_dropdown['utc']=pd.to_datetime(data_monthly_dropdown['utc'],format=\"%Y-%m\")\n",
    "\n",
    "#Creating an aggregated dataframe\n",
    "agg_monthly_dropdown=data_monthly_dropdown\n",
    "#Grouping by the 3 columns to get unique values\n",
    "grouped_monthly_dropdown=agg_monthly_dropdown.groupby(['utc','city','parameter'])\n",
    "#Getting mean of each column\n",
    "grouped_monthly_dropdown=grouped_monthly_dropdown.mean()"
   ]
  },
  {
   "cell_type": "code",
   "execution_count": null,
   "metadata": {},
   "outputs": [],
   "source": [
    "#Adding new columns for ease of work\n",
    "grouped_monthly_dropdown.insert(3,'date',pd.to_datetime('2016-01'))\n",
    "grouped_monthly_dropdown.insert(4,'city',0)\n",
    "grouped_monthly_dropdown.insert(5,'parameter',0)\n",
    "\n",
    "for i in grouped_monthly_dropdown.index:\n",
    "    grouped_monthly_dropdown.date[i]=i[0]\n",
    "    grouped_monthly_dropdown.city[i]=i[1]\n",
    "    grouped_monthly_dropdown.parameter[i]=i[2]\n",
    "    #print(i)"
   ]
  },
  {
   "cell_type": "code",
   "execution_count": null,
   "metadata": {},
   "outputs": [],
   "source": [
    "#Defining the color scheme\n",
    "color_scale = np.array(['#10ff00','#99ff00','#ccff00','#ffff00','#ffee00','#FFCC00','#ff9900','#ff6600','#ff0000','#960018'])\n",
    "sns.palplot(sns.color_palette(color_scale))\n"
   ]
  },
  {
   "cell_type": "code",
   "execution_count": null,
   "metadata": {},
   "outputs": [],
   "source": [
    "#MAP displaying the varying concentrations of parameters over time\n",
    "\n",
    "pollutants = {\n",
    "    'so2': {\n",
    "        'notation' : 'SO2',\n",
    "        'name' :'Sulphur dioxide',\n",
    "        'bin_edges' : np.array([15,30,45,60,80,100,125,165,250])\n",
    "    },\n",
    "    'pm10': {\n",
    "        'notation' : 'PM10',\n",
    "        'name' :'Particulate matter < 10 µm',\n",
    "        'bin_edges' : np.array([10,20,30,40,50,70,100,150,200])\n",
    "    },\n",
    "    'o3': {'notation' : 'O3',\n",
    "        'name' :'Ozone',\n",
    "        'bin_edges' : np.array([30,50,70,90,110,145,180,240,360])\n",
    "    },\n",
    "    'no2': {'notation' : 'NO2',\n",
    "        'name' :'Nitrogen dioxide',\n",
    "        'bin_edges' : np.array([25,45,60,80,110,150,200,270,400])\n",
    "    },\n",
    "    'co': {'notation' : 'CO',\n",
    "        'name' :'Carbon monoxide',\n",
    "         'bin_edges' : np.array([1.4,2.1,2.8,3.6,4.5,5.2,6.6,8.4,13.7])\n",
    "    },\n",
    "    'pm25': {\n",
    "        'notation' : 'PM25',\n",
    "        'name' :'Particulate matter < 25 µm',\n",
    "        'bin_edges' : np.array([10,20,30,40,50,70,100,150,200])\n",
    "    }\n",
    "}"
   ]
  },
  {
   "cell_type": "code",
   "execution_count": null,
   "metadata": {},
   "outputs": [],
   "source": [
    "#Defining all the required functions\n",
    "def load_data(pollutant_ID):\n",
    "    print('> Loading data...')\n",
    "    agg_ts = grouped_monthly_dropdown[grouped_monthly_dropdown['parameter']==pollutant_ID]\n",
    "    return agg_ts\n",
    "\n",
    "def color_coding(poll, bin_edges):    \n",
    "    idx = np.digitize(poll, bin_edges, right=True)\n",
    "    return color_scale[idx]\n",
    "\n",
    "\n",
    "def prepare_data(df, pollutant_ID):\n",
    "    print('> Preparing data...')\n",
    "    df['color'] = df.value.apply(color_coding, bin_edges=pollutants[pollutant_ID]['bin_edges'])\n",
    "    return df\n",
    "\n",
    "def create_geojson_features(df):\n",
    "    print('> Creating GeoJSON features...')\n",
    "    features = []\n",
    "    for _, row in df.iterrows():\n",
    "        feature = {\n",
    "            'type': 'Feature',\n",
    "            'geometry': {\n",
    "                'type':'Point', \n",
    "                'coordinates':[row['longitude'],row['latitude']]\n",
    "            },\n",
    "            'properties': {\n",
    "                'time': row['date'].date().__str__(),\n",
    "                'style': {'color' : row['color']},\n",
    "                'icon': 'circle',\n",
    "                'iconstyle':{\n",
    "                    'fillColor': row['color'],\n",
    "                    'fillOpacity': 0.8,\n",
    "                    'stroke': 'true',\n",
    "                    'radius': 7\n",
    "                }\n",
    "            }\n",
    "        }\n",
    "        features.append(feature)\n",
    "    return features\n",
    "\n",
    "def make_map(features):\n",
    "    print('> Making map...')\n",
    "    coords_india=[28.65381,77.22897]\n",
    "    pollution_map = folium.Map(location=coords_india, control_scale=True, zoom_start=8)\n",
    "\n",
    "    TimestampedGeoJson(\n",
    "        {'type': 'FeatureCollection',\n",
    "        'features': features}\n",
    "        , period='P1M'\n",
    "        , add_last_point=True\n",
    "        , auto_play=False\n",
    "        , loop=False\n",
    "        , max_speed=1\n",
    "        , loop_button=True\n",
    "        , date_options='YYYY/MM'\n",
    "        , time_slider_drag_update=True\n",
    "    ).add_to(pollution_map)\n",
    "    print('> Done.')\n",
    "    return pollution_map\n",
    "\n",
    "def plot_pollutant(pollutant_ID):\n",
    "    print('Mapping {} pollution in India in 2013-2015'.format(pollutants[pollutant_ID]['name']))\n",
    "    pollutant_map_df = load_data(pollutant_ID)\n",
    "    pollutant_map_df = prepare_data(pollutant_map_df, pollutant_ID)\n",
    "    features = create_geojson_features(pollutant_map_df)\n",
    "    return make_map(features), pollutant_map_df\n",
    "\n",
    "#Change the name below to any polllutant you want i.e pollution_map, df = plot_pollutant('no2')\n",
    "pollution_map, pollutant_map_df = plot_pollutant('pm25')\n",
    "pollution_map.save('/kaggle/input/pollution_pm25.html')\n",
    "pollution_map\n",
    "\n"
   ]
  },
  {
   "cell_type": "code",
   "execution_count": null,
   "metadata": {},
   "outputs": [],
   "source": [
    "pollution_map, pollutant_map_df = plot_pollutant('pm10')\n",
    "pollution_map.save('/kaggle/input/pollution_pm10.html')\n",
    "pollution_map\n"
   ]
  },
  {
   "cell_type": "code",
   "execution_count": null,
   "metadata": {},
   "outputs": [],
   "source": [
    "pollution_map, pollutant_map_df = plot_pollutant('so2')\n",
    "pollution_map.save('/kaggle/input/pollution_so2.html')\n",
    "pollution_map\n"
   ]
  },
  {
   "cell_type": "code",
   "execution_count": null,
   "metadata": {},
   "outputs": [],
   "source": [
    "pollution_map, pollutant_map_df = plot_pollutant('no2')\n",
    "pollution_map.save('/kaggle/input/pollution_no2.html')\n",
    "pollution_map\n"
   ]
  },
  {
   "cell_type": "code",
   "execution_count": null,
   "metadata": {},
   "outputs": [],
   "source": [
    "pollution_map, pollutant_map_df = plot_pollutant('o3')\n",
    "pollution_map.save('/kaggle/input/pollution_o3.html')\n",
    "pollution_map\n"
   ]
  }
 ],
 "metadata": {
  "kernelspec": {
   "display_name": "Python 3",
   "language": "python",
   "name": "python3"
  },
  "language_info": {
   "codemirror_mode": {
    "name": "ipython",
    "version": 3
   },
   "file_extension": ".py",
   "mimetype": "text/x-python",
   "name": "python",
   "nbconvert_exporter": "python",
   "pygments_lexer": "ipython3",
   "version": "3.7.3"
  }
 },
 "nbformat": 4,
 "nbformat_minor": 2
}
