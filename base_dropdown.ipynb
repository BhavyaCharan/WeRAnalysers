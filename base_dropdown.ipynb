{
 "cells": [
  {
   "cell_type": "code",
   "execution_count": null,
   "metadata": {},
   "outputs": [],
   "source": [
    "# This Python 3 environment comes with many helpful analytics libraries installed\n",
    "# It is defined by the kaggle/python docker image: https://github.com/kaggle/docker-python\n",
    "# For example, here's several helpful packages to load in \n",
    "\n",
    "import numpy as np # linear algebra\n",
    "import pandas as pd # data processing, CSV file I/O (e.g. pd.read_csv)\n",
    "import plotly.graph_objects as go\n",
    "from ipywidgets import widgets\n",
    "import seaborn as sns\n",
    "import folium\n",
    "from folium.plugins import TimestampedGeoJson\n",
    "# Input data files are available in the \"../input/\" directory.\n",
    "# For example, running this (by clicking run or pressing Shift+Enter) will list all files under the input directory\n",
    "\n",
    "import os\n",
    "for dirname, _, filenames in os.walk('/kaggle/input'):\n",
    "    for filename in filenames:\n",
    "        print(os.path.join(dirname, filename))\n",
    "\n",
    "# Any results you write to the current directory are saved as output.\n"
   ]
  },
  {
   "cell_type": "code",
   "execution_count": null,
   "metadata": {},
   "outputs": [],
   "source": [
    "#Reading Needed files\n",
    "df_2016=pd.read_csv(\"/kaggle/input/air-pollution-dataset-india20162018/2016_india_withoutNA.csv\")\n",
    "df_2017=pd.read_csv(\"/kaggle/input/air-pollution-dataset-india20162018/2017_india_withoutNA.csv\")\n",
    "df_2018=pd.read_csv(\"/kaggle/input/air-pollution-dataset-india20162018/2018_india_withoutNA.csv\")\n",
    "df_temp=df_2016.append(df_2017,ignore_index=True)\n",
    "df=df_temp.append(df_2018,ignore_index=True)"
   ]
  },
  {
   "cell_type": "code",
   "execution_count": null,
   "metadata": {},
   "outputs": [],
   "source": [
    "#Checking how many rows have NA now , should be 0\n",
    "print(df.latitude.isna().sum())\n",
    "#Dropping rest\n",
    "df=df.dropna(axis=0)\n",
    "df.latitude.isna().sum()"
   ]
  },
  {
   "cell_type": "code",
   "execution_count": null,
   "metadata": {},
   "outputs": [],
   "source": [
    "#Pie Chart for pollutant proportion\n",
    "values=[]\n",
    "par=df.parameter.value_counts()\n",
    "for i in range(len(par)):\n",
    "    values.append(par[i])\n",
    "labels=['no2','co','pm25','o3','so2','pm10']\n",
    "colors = ['gold', 'mediumturquoise', 'darkorange', 'lightgreen','red','black']\n",
    "fig_pie = go.Figure(data=[go.Pie(labels=labels, \n",
    "                             values=values)])\n",
    "fig_pie.update_traces(hoverinfo='label+percent', textinfo='percent', textfont_size=20,\n",
    "                  marker=dict(colors=colors, line=dict(color='#000000', width=2)))\n",
    "fig_pie.show()"
   ]
  },
  {
   "cell_type": "code",
   "execution_count": null,
   "metadata": {},
   "outputs": [],
   "source": [
    "#---MAIN DROPDOWN\n",
    "#Creating a new dataframe where I have removed the time part of utc because we will be working with daily data and not fine grained to hourly\n",
    "data_dropdown=df\n",
    "data_dropdown=data_dropdown.drop(['local','country','attribution','location'],axis=1)\n",
    "data_dropdown['utc'] = data_dropdown['utc'].map(lambda x: str(x)[:-14])\n",
    "#Converting to datetime\n",
    "data_dropdown['utc']=pd.to_datetime(data_dropdown['utc'],format=\"%Y-%m-%d\")\n",
    "\n",
    "#Creating an aggregated dataframe\n",
    "agg_data_dropdown=data_dropdown\n",
    "#Grouping by the 3 columns to get unique values\n",
    "grouped_dropdown=agg_data_dropdown.groupby(['utc','city','parameter'])\n",
    "#Getting mean of each column\n",
    "grouped_dropdown=grouped_dropdown.mean()"
   ]
  },
  {
   "cell_type": "code",
   "execution_count": null,
   "metadata": {},
   "outputs": [],
   "source": [
    "#So basically now what we get is a heirarchically indexed dataframe, so the three columns together form the index and are no more\n",
    "#available as separate columns\n",
    "grouped_dropdown"
   ]
  },
  {
   "cell_type": "code",
   "execution_count": null,
   "metadata": {},
   "outputs": [],
   "source": [
    "#Inserting those columns from the index again so that we can make accessing easier\n",
    "grouped_dropdown.insert(3,'date',pd.to_datetime('2016-01-03'))\n",
    "grouped_dropdown.insert(4,'parameter',0)\n",
    "grouped_dropdown.insert(5,'city',0)"
   ]
  },
  {
   "cell_type": "code",
   "execution_count": null,
   "metadata": {},
   "outputs": [],
   "source": [
    "#Copying the values from index to the newly added row\n",
    "for i in grouped_dropdown.index:\n",
    "    grouped_dropdown.date[i]=i[0]\n",
    "    grouped_dropdown.parameter[i]=i[2]\n",
    "    grouped_dropdown.city[i]=i[1]\n",
    "    #print(grouped_dropdown.date[i])\n",
    "    "
   ]
  },
  {
   "cell_type": "code",
   "execution_count": null,
   "metadata": {},
   "outputs": [],
   "source": [
    "#Dropdown without cleaning, there are negative values\n",
    "\n",
    "filter_list = [i and j for i, j in\n",
    "        zip(grouped_dropdown['city'] == 'Delhi', grouped_dropdown['parameter'] == 'co')]\n",
    "temp_df = grouped_dropdown[filter_list]"
   ]
  },
  {
   "cell_type": "code",
   "execution_count": null,
   "metadata": {},
   "outputs": [],
   "source": [
    "city = widgets.Dropdown(\n",
    "    description='City:   ',\n",
    "    value='Delhi',\n",
    "    options=grouped_dropdown['city'].unique().tolist()\n",
    ")\n",
    "parameter = widgets.Dropdown(\n",
    "    options=list(grouped_dropdown['parameter'].unique()),\n",
    "    value='co',\n",
    "    description='Parameter:   ',\n",
    ")\n",
    "trace1 = go.Scatter(x=temp_df['date'], y=temp_df['value'], mode='markers')\n",
    "\n",
    "g = go.FigureWidget(data=[trace1],\n",
    "                    layout=go.Layout(\n",
    "                        title=dict(\n",
    "                            text='AQI for different cities'\n",
    "                        )\n",
    "                    ))\n",
    "def response(change):\n",
    "        filter_list = [i and j for i, j in\n",
    "        zip(grouped_dropdown['city'] == city.value, grouped_dropdown['parameter'] == parameter.value)]\n",
    "        temp_df = grouped_dropdown[filter_list]\n",
    "        x1 = temp_df['date']\n",
    "        y1 = temp_df['value']\n",
    "        with g.batch_update():\n",
    "            g.data[0].x = x1\n",
    "            g.data[0].y = y1\n",
    "            g.layout.xaxis.title = 'Date'\n",
    "            g.layout.yaxis.title = 'Pollutant levels'\n",
    "\n",
    "\n",
    "city.observe(response, names=\"value\")\n",
    "parameter.observe(response, names=\"value\")\n",
    "container2 = widgets.HBox([city, parameter])\n",
    "widgets.VBox([container2,g])"
   ]
  }
 ],
 "metadata": {
  "kernelspec": {
   "display_name": "Python 3",
   "language": "python",
   "name": "python3"
  },
  "language_info": {
   "codemirror_mode": {
    "name": "ipython",
    "version": 3
   },
   "file_extension": ".py",
   "mimetype": "text/x-python",
   "name": "python",
   "nbconvert_exporter": "python",
   "pygments_lexer": "ipython3",
   "version": "3.7.3"
  }
 },
 "nbformat": 4,
 "nbformat_minor": 2
}
